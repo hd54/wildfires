{
 "cells": [
  {
   "cell_type": "markdown",
   "id": "a1fade1e-08fa-4e9c-9e79-0f248db147b9",
   "metadata": {},
   "source": [
    "# Canada Wildfires Analysis - STAT 201 Project Proposal"
   ]
  },
  {
   "cell_type": "markdown",
   "id": "7af291ea-c99b-4a52-8f79-4794790e560a",
   "metadata": {
    "jp-MarkdownHeadingCollapsed": true,
    "tags": []
   },
   "source": [
    "## 1. Introduction\n",
    "\n",
    "Wildfires are quite prevalent in Canada during the summertime and give rise to both ecological and humanitarian problems. As well as destroying homes and displacing communities, wildfires pose health risks to anyone in the surrounding area due to air quality (Matz et al 2020). Additionally wildfires consistently cause immense distruction to old-growth forests and important habitat habitat for wildlife in Canada (Martin et al 2021). There are several factors that play into the magnitude of wildifires and can differ by location, such as climate and government management strategy (Serra-Buriel et al. 2021), so understanding the differences in fire size between different regions of Canada may help with mitigation in the future. For this project, we are interested specifically in the provinces of British Columbia and Ontario. We will attempt to answer the question: Is there a significant difference between magnitude (area in hectares) of wildfires in BC and Ontario?\n",
    "\n",
    "\n",
    "To answer this question, we will explore the mean of fire area (hectares) as our parameters. We will use a smaller sample from the data set to estimate these parameters and use boot-strapping to create further conclusions. It is worth noting that we have access to data for all Canada regions within an extensive amount of time (all wildfires in Canada from 1950-2021), so making inferences from smaller samples would not be necessary in a real-world scenario. Finally, we will perform a hypothesis test to determine if there is a significant difference between the two provinces. \n",
    "\n",
    "\n",
    "The dataset used in this project comes from the National Fire Database, accessed from the government of Canada data catalogue. It contains data for the date, province, coordinates, size, cause, and ecosystem for wildfires between the years of 1950-2021. For the most part, we will only be working with the date, province, and size of fires, with mean fire size by province as our parameter of interest. Our scale parameter will be the standard-deviation.\n",
    "\n",
    "\n",
    "\n",
    "\n",
    "\n",
    "\n"
   ]
  },
  {
   "cell_type": "markdown",
   "id": "7dba1b25-37d1-42ef-ad6d-7d0f74b404ad",
   "metadata": {},
   "source": [
    "## 2. Preliminary Results"
   ]
  },
  {
   "cell_type": "markdown",
   "id": "cf7691a5-f062-488e-ba7e-c327df2e4328",
   "metadata": {},
   "source": [
    "### Load libraries"
   ]
  },
  {
   "cell_type": "code",
   "execution_count": 1,
   "id": "eefd23e6-c09b-4f8e-af4a-b0dacd295384",
   "metadata": {},
   "outputs": [
    {
     "name": "stderr",
     "output_type": "stream",
     "text": [
      "\n",
      "Attaching package: ‘dplyr’\n",
      "\n",
      "\n",
      "The following objects are masked from ‘package:stats’:\n",
      "\n",
      "    filter, lag\n",
      "\n",
      "\n",
      "The following objects are masked from ‘package:base’:\n",
      "\n",
      "    intersect, setdiff, setequal, union\n",
      "\n",
      "\n",
      "\n",
      "Attaching package: ‘gridExtra’\n",
      "\n",
      "\n",
      "The following object is masked from ‘package:dplyr’:\n",
      "\n",
      "    combine\n",
      "\n",
      "\n",
      "── \u001b[1mAttaching packages\u001b[22m ─────────────────────────────────────── tidyverse 1.3.2 ──\n",
      "\u001b[32m✔\u001b[39m \u001b[34mggplot2\u001b[39m 3.3.6     \u001b[32m✔\u001b[39m \u001b[34mpurrr  \u001b[39m 0.3.4\n",
      "\u001b[32m✔\u001b[39m \u001b[34mtibble \u001b[39m 3.1.8     \u001b[32m✔\u001b[39m \u001b[34mstringr\u001b[39m 1.4.1\n",
      "\u001b[32m✔\u001b[39m \u001b[34mtidyr  \u001b[39m 1.2.1     \u001b[32m✔\u001b[39m \u001b[34mforcats\u001b[39m 0.5.2\n",
      "\u001b[32m✔\u001b[39m \u001b[34mreadr  \u001b[39m 2.1.2     \n",
      "── \u001b[1mConflicts\u001b[22m ────────────────────────────────────────── tidyverse_conflicts() ──\n",
      "\u001b[31m✖\u001b[39m \u001b[34mgridExtra\u001b[39m::\u001b[32mcombine()\u001b[39m masks \u001b[34mdplyr\u001b[39m::combine()\n",
      "\u001b[31m✖\u001b[39m \u001b[34mdplyr\u001b[39m::\u001b[32mfilter()\u001b[39m      masks \u001b[34mstats\u001b[39m::filter()\n",
      "\u001b[31m✖\u001b[39m \u001b[34mdplyr\u001b[39m::\u001b[32mlag()\u001b[39m         masks \u001b[34mstats\u001b[39m::lag()\n"
     ]
    }
   ],
   "source": [
    "### Run this cell before continuing.\n",
    "library(cowplot)\n",
    "library(dplyr)\n",
    "library(gridExtra)\n",
    "library(tidyverse)\n",
    "library(repr)\n",
    "library(infer)"
   ]
  },
  {
   "cell_type": "markdown",
   "id": "b1e02110-39d1-49f4-b1d0-f1defb7352b2",
   "metadata": {},
   "source": [
    "### Read dataset from web into R"
   ]
  },
  {
   "cell_type": "code",
   "execution_count": 2,
   "id": "770b13b8-a715-4ae6-8930-909113da0fc4",
   "metadata": {},
   "outputs": [
    {
     "name": "stderr",
     "output_type": "stream",
     "text": [
      "\u001b[1mRows: \u001b[22m\u001b[34m423831\u001b[39m \u001b[1mColumns: \u001b[22m\u001b[34m9\u001b[39m\n",
      "\u001b[36m──\u001b[39m \u001b[1mColumn specification\u001b[22m \u001b[36m────────────────────────────────────────────────────────\u001b[39m\n",
      "\u001b[1mDelimiter:\u001b[22m \"\\t\"\n",
      "\u001b[31mchr\u001b[39m (5): SRC_AGENCY, REP_DATE, CAUSE, PROTZONE, ECOZ_NAME\n",
      "\u001b[32mdbl\u001b[39m (4): FID, LATITUDE, LONGITUDE, SIZE_HA\n",
      "\n",
      "\u001b[36mℹ\u001b[39m Use `spec()` to retrieve the full column specification for this data.\n",
      "\u001b[36mℹ\u001b[39m Specify the column types or set `show_col_types = FALSE` to quiet this message.\n"
     ]
    },
    {
     "data": {
      "text/html": [
       "<table class=\"dataframe\">\n",
       "<caption>A tibble: 6 × 9</caption>\n",
       "<thead>\n",
       "\t<tr><th scope=col>FID</th><th scope=col>SRC_AGENCY</th><th scope=col>LATITUDE</th><th scope=col>LONGITUDE</th><th scope=col>REP_DATE</th><th scope=col>SIZE_HA</th><th scope=col>CAUSE</th><th scope=col>PROTZONE</th><th scope=col>ECOZ_NAME</th></tr>\n",
       "\t<tr><th scope=col>&lt;dbl&gt;</th><th scope=col>&lt;chr&gt;</th><th scope=col>&lt;dbl&gt;</th><th scope=col>&lt;dbl&gt;</th><th scope=col>&lt;chr&gt;</th><th scope=col>&lt;dbl&gt;</th><th scope=col>&lt;chr&gt;</th><th scope=col>&lt;chr&gt;</th><th scope=col>&lt;chr&gt;</th></tr>\n",
       "</thead>\n",
       "<tbody>\n",
       "\t<tr><td>0</td><td>BC</td><td>59.963</td><td>-128.172</td><td>5/26/1953</td><td>    8.0</td><td>H</td><td>NA</td><td>Boreal Cordillera</td></tr>\n",
       "\t<tr><td>1</td><td>BC</td><td>59.318</td><td>-132.172</td><td>6/22/1950</td><td>    8.0</td><td>L</td><td>NA</td><td>Boreal Cordillera</td></tr>\n",
       "\t<tr><td>2</td><td>BC</td><td>59.876</td><td>-131.922</td><td>6/4/1950 </td><td>12949.9</td><td>H</td><td>NA</td><td>Boreal Cordillera</td></tr>\n",
       "\t<tr><td>3</td><td>BC</td><td>59.760</td><td>-132.808</td><td>7/15/1951</td><td>  241.1</td><td>H</td><td>NA</td><td>Boreal Cordillera</td></tr>\n",
       "\t<tr><td>4</td><td>BC</td><td>59.434</td><td>-126.172</td><td>6/12/1952</td><td>    1.2</td><td>H</td><td>NA</td><td>Boreal Cordillera</td></tr>\n",
       "\t<tr><td>5</td><td>BC</td><td>59.963</td><td>-136.502</td><td>8/1/1951 </td><td>  194.2</td><td>H</td><td>NA</td><td>Boreal Cordillera</td></tr>\n",
       "</tbody>\n",
       "</table>\n"
      ],
      "text/latex": [
       "A tibble: 6 × 9\n",
       "\\begin{tabular}{lllllllll}\n",
       " FID & SRC\\_AGENCY & LATITUDE & LONGITUDE & REP\\_DATE & SIZE\\_HA & CAUSE & PROTZONE & ECOZ\\_NAME\\\\\n",
       " <dbl> & <chr> & <dbl> & <dbl> & <chr> & <dbl> & <chr> & <chr> & <chr>\\\\\n",
       "\\hline\n",
       "\t 0 & BC & 59.963 & -128.172 & 5/26/1953 &     8.0 & H & NA & Boreal Cordillera\\\\\n",
       "\t 1 & BC & 59.318 & -132.172 & 6/22/1950 &     8.0 & L & NA & Boreal Cordillera\\\\\n",
       "\t 2 & BC & 59.876 & -131.922 & 6/4/1950  & 12949.9 & H & NA & Boreal Cordillera\\\\\n",
       "\t 3 & BC & 59.760 & -132.808 & 7/15/1951 &   241.1 & H & NA & Boreal Cordillera\\\\\n",
       "\t 4 & BC & 59.434 & -126.172 & 6/12/1952 &     1.2 & H & NA & Boreal Cordillera\\\\\n",
       "\t 5 & BC & 59.963 & -136.502 & 8/1/1951  &   194.2 & H & NA & Boreal Cordillera\\\\\n",
       "\\end{tabular}\n"
      ],
      "text/markdown": [
       "\n",
       "A tibble: 6 × 9\n",
       "\n",
       "| FID &lt;dbl&gt; | SRC_AGENCY &lt;chr&gt; | LATITUDE &lt;dbl&gt; | LONGITUDE &lt;dbl&gt; | REP_DATE &lt;chr&gt; | SIZE_HA &lt;dbl&gt; | CAUSE &lt;chr&gt; | PROTZONE &lt;chr&gt; | ECOZ_NAME &lt;chr&gt; |\n",
       "|---|---|---|---|---|---|---|---|---|\n",
       "| 0 | BC | 59.963 | -128.172 | 5/26/1953 |     8.0 | H | NA | Boreal Cordillera |\n",
       "| 1 | BC | 59.318 | -132.172 | 6/22/1950 |     8.0 | L | NA | Boreal Cordillera |\n",
       "| 2 | BC | 59.876 | -131.922 | 6/4/1950  | 12949.9 | H | NA | Boreal Cordillera |\n",
       "| 3 | BC | 59.760 | -132.808 | 7/15/1951 |   241.1 | H | NA | Boreal Cordillera |\n",
       "| 4 | BC | 59.434 | -126.172 | 6/12/1952 |     1.2 | H | NA | Boreal Cordillera |\n",
       "| 5 | BC | 59.963 | -136.502 | 8/1/1951  |   194.2 | H | NA | Boreal Cordillera |\n",
       "\n"
      ],
      "text/plain": [
       "  FID SRC_AGENCY LATITUDE LONGITUDE REP_DATE  SIZE_HA CAUSE PROTZONE\n",
       "1 0   BC         59.963   -128.172  5/26/1953     8.0 H     NA      \n",
       "2 1   BC         59.318   -132.172  6/22/1950     8.0 L     NA      \n",
       "3 2   BC         59.876   -131.922  6/4/1950  12949.9 H     NA      \n",
       "4 3   BC         59.760   -132.808  7/15/1951   241.1 H     NA      \n",
       "5 4   BC         59.434   -126.172  6/12/1952     1.2 H     NA      \n",
       "6 5   BC         59.963   -136.502  8/1/1951    194.2 H     NA      \n",
       "  ECOZ_NAME        \n",
       "1 Boreal Cordillera\n",
       "2 Boreal Cordillera\n",
       "3 Boreal Cordillera\n",
       "4 Boreal Cordillera\n",
       "5 Boreal Cordillera\n",
       "6 Boreal Cordillera"
      ]
     },
     "metadata": {},
     "output_type": "display_data"
    }
   ],
   "source": [
    "url <- 'https://gist.githubusercontent.com/hd54/d45ccf80e72b9c87dbc636fb9d33af93/raw/ec514840169031c4eff262d5c42474a44c8d728f/gistfile1.txt'\n",
    "wildfires <- read_tsv(url)\n",
    "\n",
    "head(wildfires)"
   ]
  },
  {
   "cell_type": "markdown",
   "id": "66709f36-2d07-484d-b833-06af8a42ba31",
   "metadata": {},
   "source": [
    "### Wrangle the data\n",
    "\n",
    "First, we rename columns containing our variables of interest (province and wildfire_area_hect). Then, we filter the data for the 2 provinces we are studying (BC and Ontario). Finally, we select variables of interest - province and wildfire area in hectares (wildfire_area_hect)."
   ]
  },
  {
   "cell_type": "code",
   "execution_count": 7,
   "id": "73861046-a661-4d97-894b-f760179464d6",
   "metadata": {},
   "outputs": [
    {
     "data": {
      "text/html": [
       "<table class=\"dataframe\">\n",
       "<caption>A tibble: 6 × 2</caption>\n",
       "<thead>\n",
       "\t<tr><th scope=col>province</th><th scope=col>wildfire_area_hect</th></tr>\n",
       "\t<tr><th scope=col>&lt;chr&gt;</th><th scope=col>&lt;dbl&gt;</th></tr>\n",
       "</thead>\n",
       "<tbody>\n",
       "\t<tr><td>BC</td><td>    8.0</td></tr>\n",
       "\t<tr><td>BC</td><td>    8.0</td></tr>\n",
       "\t<tr><td>BC</td><td>12949.9</td></tr>\n",
       "\t<tr><td>BC</td><td>  241.1</td></tr>\n",
       "\t<tr><td>BC</td><td>    1.2</td></tr>\n",
       "\t<tr><td>BC</td><td>  194.2</td></tr>\n",
       "</tbody>\n",
       "</table>\n"
      ],
      "text/latex": [
       "A tibble: 6 × 2\n",
       "\\begin{tabular}{ll}\n",
       " province & wildfire\\_area\\_hect\\\\\n",
       " <chr> & <dbl>\\\\\n",
       "\\hline\n",
       "\t BC &     8.0\\\\\n",
       "\t BC &     8.0\\\\\n",
       "\t BC & 12949.9\\\\\n",
       "\t BC &   241.1\\\\\n",
       "\t BC &     1.2\\\\\n",
       "\t BC &   194.2\\\\\n",
       "\\end{tabular}\n"
      ],
      "text/markdown": [
       "\n",
       "A tibble: 6 × 2\n",
       "\n",
       "| province &lt;chr&gt; | wildfire_area_hect &lt;dbl&gt; |\n",
       "|---|---|\n",
       "| BC |     8.0 |\n",
       "| BC |     8.0 |\n",
       "| BC | 12949.9 |\n",
       "| BC |   241.1 |\n",
       "| BC |     1.2 |\n",
       "| BC |   194.2 |\n",
       "\n"
      ],
      "text/plain": [
       "  province wildfire_area_hect\n",
       "1 BC           8.0           \n",
       "2 BC           8.0           \n",
       "3 BC       12949.9           \n",
       "4 BC         241.1           \n",
       "5 BC           1.2           \n",
       "6 BC         194.2           "
      ]
     },
     "metadata": {},
     "output_type": "display_data"
    },
    {
     "data": {
      "text/html": [
       "<table class=\"dataframe\">\n",
       "<caption>A tibble: 6 × 2</caption>\n",
       "<thead>\n",
       "\t<tr><th scope=col>province</th><th scope=col>wildfire_area_hect</th></tr>\n",
       "\t<tr><th scope=col>&lt;chr&gt;</th><th scope=col>&lt;dbl&gt;</th></tr>\n",
       "</thead>\n",
       "<tbody>\n",
       "\t<tr><td>ON</td><td>   83</td></tr>\n",
       "\t<tr><td>ON</td><td>53522</td></tr>\n",
       "\t<tr><td>ON</td><td> 5931</td></tr>\n",
       "\t<tr><td>ON</td><td>12002</td></tr>\n",
       "\t<tr><td>ON</td><td>  731</td></tr>\n",
       "\t<tr><td>ON</td><td> 1543</td></tr>\n",
       "</tbody>\n",
       "</table>\n"
      ],
      "text/latex": [
       "A tibble: 6 × 2\n",
       "\\begin{tabular}{ll}\n",
       " province & wildfire\\_area\\_hect\\\\\n",
       " <chr> & <dbl>\\\\\n",
       "\\hline\n",
       "\t ON &    83\\\\\n",
       "\t ON & 53522\\\\\n",
       "\t ON &  5931\\\\\n",
       "\t ON & 12002\\\\\n",
       "\t ON &   731\\\\\n",
       "\t ON &  1543\\\\\n",
       "\\end{tabular}\n"
      ],
      "text/markdown": [
       "\n",
       "A tibble: 6 × 2\n",
       "\n",
       "| province &lt;chr&gt; | wildfire_area_hect &lt;dbl&gt; |\n",
       "|---|---|\n",
       "| ON |    83 |\n",
       "| ON | 53522 |\n",
       "| ON |  5931 |\n",
       "| ON | 12002 |\n",
       "| ON |   731 |\n",
       "| ON |  1543 |\n",
       "\n"
      ],
      "text/plain": [
       "  province wildfire_area_hect\n",
       "1 ON          83             \n",
       "2 ON       53522             \n",
       "3 ON        5931             \n",
       "4 ON       12002             \n",
       "5 ON         731             \n",
       "6 ON        1543             "
      ]
     },
     "metadata": {},
     "output_type": "display_data"
    }
   ],
   "source": [
    "wildfires_bc_on <- wildfires |> \n",
    "    rename(province = SRC_AGENCY, wildfire_area_hect = SIZE_HA) |>\n",
    "    filter(province %in% c(\"BC\", \"ON\")) |> \n",
    "    select(province, wildfire_area_hect)\n",
    "head(wildfires_bc_on)\n",
    "tail(wildfires_bc_on)"
   ]
  },
  {
   "cell_type": "markdown",
   "id": "2961db5d-0a41-4af1-9162-58efbd83bd6d",
   "metadata": {},
   "source": [
    "### Compute estimates for parameters\n",
    "\n",
    "Mean wildfire size for both BC and Ontario is calculated and summarized in the table below."
   ]
  },
  {
   "cell_type": "code",
   "execution_count": 11,
   "id": "a106833a-c1ad-402b-8417-dc242dac85d9",
   "metadata": {},
   "outputs": [
    {
     "data": {
      "text/html": [
       "<table class=\"dataframe\">\n",
       "<caption>A tibble: 2 × 2</caption>\n",
       "<thead>\n",
       "\t<tr><th scope=col>province</th><th scope=col>mean_wildfire_size</th></tr>\n",
       "\t<tr><th scope=col>&lt;chr&gt;</th><th scope=col>&lt;dbl&gt;</th></tr>\n",
       "</thead>\n",
       "<tbody>\n",
       "\t<tr><td>BC</td><td> 70.93276</td></tr>\n",
       "\t<tr><td>ON</td><td>160.50089</td></tr>\n",
       "</tbody>\n",
       "</table>\n"
      ],
      "text/latex": [
       "A tibble: 2 × 2\n",
       "\\begin{tabular}{ll}\n",
       " province & mean\\_wildfire\\_size\\\\\n",
       " <chr> & <dbl>\\\\\n",
       "\\hline\n",
       "\t BC &  70.93276\\\\\n",
       "\t ON & 160.50089\\\\\n",
       "\\end{tabular}\n"
      ],
      "text/markdown": [
       "\n",
       "A tibble: 2 × 2\n",
       "\n",
       "| province &lt;chr&gt; | mean_wildfire_size &lt;dbl&gt; |\n",
       "|---|---|\n",
       "| BC |  70.93276 |\n",
       "| ON | 160.50089 |\n",
       "\n"
      ],
      "text/plain": [
       "  province mean_wildfire_size\n",
       "1 BC        70.93276         \n",
       "2 ON       160.50089         "
      ]
     },
     "metadata": {},
     "output_type": "display_data"
    }
   ],
   "source": [
    "wildfire_means <- wildfires_bc_on |> \n",
    "    group_by(province) |> \n",
    "    summarize(mean_wildfire_size = mean(wildfire_area_hect))\n",
    "wildfire_means"
   ]
  },
  {
   "cell_type": "markdown",
   "id": "68eb65d6-45be-4ee7-8449-77e3c9a8c773",
   "metadata": {},
   "source": [
    "### Visualize the data"
   ]
  },
  {
   "cell_type": "code",
   "execution_count": 1,
   "id": "5808a5db-aaa6-41ee-a015-c1ccb8a3039f",
   "metadata": {},
   "outputs": [],
   "source": [
    "# visualize data"
   ]
  },
  {
   "cell_type": "markdown",
   "id": "99c92a5e-e547-44aa-9cfa-c1eb2fa0ead7",
   "metadata": {},
   "source": [
    "### 3. Methods: Plan"
   ]
  },
  {
   "cell_type": "markdown",
   "id": "c08f2f8a-b675-4d86-adef-56ac606d0676",
   "metadata": {},
   "source": [
    "### Report Summary\n",
    "\n",
    "The dataset is a collection of wildfires data points throughout over 60 years during 1950-2021 which directly comes from the CNFDB (Canadian National Fire Database) belonging to the Natural Resources Canada goverment department, and is then combined to be a complete dataset with all Canada regions on Kaggle by a professional data analyst. This dataset is publicly available through Natural Resources Canada website, which can be found here: \n",
    "\n",
    "https://cwfis.cfs.nrcan.gc.ca/downloads/nfdb/fire_pnt/current_version/NFDB_Point_metadata_NAP_ISO_19115_2003_EN.pdf\n",
    "\n",
    "We would like to identify whether there is a difference between the area of wildfires in these two regions. While preliminary results reveals quite a difference in the average area of damage, note that this is only sample taken over 60 years, so the calculated difference does not represent our population of interest - the wildfires area in any periods of time. We may assume that the result could be due to random sampling, even if our dataset is extensive.\n",
    "\n",
    "We would want to thus conduct the experiment using hypothesis testing to determine a potential discrepancy or it is only due to sampling variation. We will also being using confidence interval to determine a possible range that contains the true parameter.\n",
    "\n",
    "For our analysis, we will be using bootstrapping as well as asymptotics methods and evaluate how effective these methods are. We expect to see similar statistics coming from both methods.\n",
    "\n",
    "We will be using a 0.05 Significance level and a 95% Confidence level for our analysis.\n",
    "\n",
    "### Hypothesis Test:\n",
    "- **Null Hypothesis $H_{0}$**: The area of wildfire is the same for both BC and ON.\n",
    "- **Alternative Hypothesis $H_{\\alpha}$**: There is a difference between the area of wildfire between BC and ON.\n",
    "- **Significance Level (α):** 0.05\n",
    "\n",
    "### Confidence Intervals:\n",
    "- **Parameters of Interest**: Average wildfire area, difference in means\n",
    "- **Confidence Level:** 95%\n",
    "\n",
    "We are expecting to see a difference between area of wildfire between BC and ON. If there is a stark difference, we expect the finding would help indicate area with lesser damage area and thus better regarding air quality. Else, we may conclude wildfire affects both states similarly, and more research is needed to determine other factors that may influence life quality, such as income or social benefits.\n",
    "\n",
    "Additional analysis may include comparisons of wildfire area among all states of Canada to determine the one with lowest means, explore other factors contributing to quality of life. Moreover, considering how far the wildfire smoke can spread, some of its weight should also be given to all affected states even though the fire doesn't originate there."
   ]
  },
  {
   "cell_type": "markdown",
   "id": "eee43b66-8f5e-4d4e-8d4a-23551e277f12",
   "metadata": {},
   "source": [
    "### 4. References"
   ]
  },
  {
   "cell_type": "markdown",
   "id": "3a8bd02d-0d43-4545-9e68-ef33bf405eb0",
   "metadata": {},
   "source": [
    "Martin, M., Grondin, P., Lambert, M.-C., Bergeron, Y., &amp; Morin, H. (2021). Compared to wildfire, management practices reduced old-growth forest diversity and functionality in primary boreal landscapes of Eastern Canada. Frontiers in Forests and Global Change, 4. https://doi.org/10.3389/ffgc.2021.639397 \n",
    "\n",
    "Matz, C. J., Egyed, M., Xi, G., Racine, J., Pavlovic, R., Rittmaster, R., Henderson, S. B., &amp; Stieb, D. M. (2020). Health Impact Analysis of PM2.5 from wildfire smoke in Canada (2013–2015, 2017–2018). Science of The Total Environment, 725, 201–224. https://doi.org/10.1016/j.scitotenv.2020.138506 \n",
    "\n",
    "Serra-Burriel, F., Delicado, P., Prata, A. T., &amp; Cucchietti, F. M. (2021). Estimating heterogeneous wildfire effects using synthetic controls and satellite remote sensing. Remote Sensing of Environment, 265, 112649. https://doi.org/10.1016/j.rse.2021.112649 "
   ]
  },
  {
   "cell_type": "code",
   "execution_count": null,
   "id": "9db65898-e66c-4b28-bb4d-2ec81ac0cc4a",
   "metadata": {},
   "outputs": [],
   "source": []
  }
 ],
 "metadata": {
  "kernelspec": {
   "display_name": "R",
   "language": "R",
   "name": "ir"
  },
  "language_info": {
   "codemirror_mode": "r",
   "file_extension": ".r",
   "mimetype": "text/x-r-source",
   "name": "R",
   "pygments_lexer": "r",
   "version": "4.2.3"
  }
 },
 "nbformat": 4,
 "nbformat_minor": 5
}
