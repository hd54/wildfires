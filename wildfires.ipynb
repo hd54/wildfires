{
 "cells": [
  {
   "cell_type": "markdown",
   "id": "a1fade1e-08fa-4e9c-9e79-0f248db147b9",
   "metadata": {},
   "source": [
    "# Canada Wildfires Analysis - STAT 201 Project Proposal"
   ]
  },
  {
   "cell_type": "markdown",
   "id": "7af291ea-c99b-4a52-8f79-4794790e560a",
   "metadata": {},
   "source": [
    "## 1. Introduction\n",
    "\n",
    "Text here.\n",
    "\n",
    "### Research Question and Parameter\n",
    "\n",
    "### Identify and Describe the Dataset"
   ]
  },
  {
   "cell_type": "markdown",
   "id": "7dba1b25-37d1-42ef-ad6d-7d0f74b404ad",
   "metadata": {},
   "source": [
    "## 2. Preliminary Results"
   ]
  },
  {
   "cell_type": "markdown",
   "id": "cf7691a5-f062-488e-ba7e-c327df2e4328",
   "metadata": {},
   "source": [
    "### Load libraries"
   ]
  },
  {
   "cell_type": "code",
   "execution_count": 10,
   "id": "eefd23e6-c09b-4f8e-af4a-b0dacd295384",
   "metadata": {},
   "outputs": [],
   "source": [
    "### Run this cell before continuing.\n",
    "library(cowplot)\n",
    "library(dplyr)\n",
    "library(gridExtra)\n",
    "library(tidyverse)\n",
    "library(repr)\n",
    "library(infer)\n",
    "library(repr)"
   ]
  },
  {
   "cell_type": "markdown",
   "id": "b1e02110-39d1-49f4-b1d0-f1defb7352b2",
   "metadata": {},
   "source": [
    "### Read dataset from web into R"
   ]
  },
  {
   "cell_type": "code",
   "execution_count": 9,
   "id": "770b13b8-a715-4ae6-8930-909113da0fc4",
   "metadata": {},
   "outputs": [
    {
     "name": "stderr",
     "output_type": "stream",
     "text": [
      "\u001b[1mRows: \u001b[22m\u001b[34m423831\u001b[39m \u001b[1mColumns: \u001b[22m\u001b[34m9\u001b[39m\n",
      "\u001b[36m──\u001b[39m \u001b[1mColumn specification\u001b[22m \u001b[36m────────────────────────────────────────────────────────\u001b[39m\n",
      "\u001b[1mDelimiter:\u001b[22m \"\\t\"\n",
      "\u001b[31mchr\u001b[39m (5): SRC_AGENCY, REP_DATE, CAUSE, PROTZONE, ECOZ_NAME\n",
      "\u001b[32mdbl\u001b[39m (4): FID, LATITUDE, LONGITUDE, SIZE_HA\n",
      "\n",
      "\u001b[36mℹ\u001b[39m Use `spec()` to retrieve the full column specification for this data.\n",
      "\u001b[36mℹ\u001b[39m Specify the column types or set `show_col_types = FALSE` to quiet this message.\n"
     ]
    },
    {
     "data": {
      "text/html": [
       "<table class=\"dataframe\">\n",
       "<caption>A tibble: 6 × 9</caption>\n",
       "<thead>\n",
       "\t<tr><th scope=col>FID</th><th scope=col>SRC_AGENCY</th><th scope=col>LATITUDE</th><th scope=col>LONGITUDE</th><th scope=col>REP_DATE</th><th scope=col>SIZE_HA</th><th scope=col>CAUSE</th><th scope=col>PROTZONE</th><th scope=col>ECOZ_NAME</th></tr>\n",
       "\t<tr><th scope=col>&lt;dbl&gt;</th><th scope=col>&lt;chr&gt;</th><th scope=col>&lt;dbl&gt;</th><th scope=col>&lt;dbl&gt;</th><th scope=col>&lt;chr&gt;</th><th scope=col>&lt;dbl&gt;</th><th scope=col>&lt;chr&gt;</th><th scope=col>&lt;chr&gt;</th><th scope=col>&lt;chr&gt;</th></tr>\n",
       "</thead>\n",
       "<tbody>\n",
       "\t<tr><td>0</td><td>BC</td><td>59.963</td><td>-128.172</td><td>5/26/1953</td><td>    8.0</td><td>H</td><td>NA</td><td>Boreal Cordillera</td></tr>\n",
       "\t<tr><td>1</td><td>BC</td><td>59.318</td><td>-132.172</td><td>6/22/1950</td><td>    8.0</td><td>L</td><td>NA</td><td>Boreal Cordillera</td></tr>\n",
       "\t<tr><td>2</td><td>BC</td><td>59.876</td><td>-131.922</td><td>6/4/1950 </td><td>12949.9</td><td>H</td><td>NA</td><td>Boreal Cordillera</td></tr>\n",
       "\t<tr><td>3</td><td>BC</td><td>59.760</td><td>-132.808</td><td>7/15/1951</td><td>  241.1</td><td>H</td><td>NA</td><td>Boreal Cordillera</td></tr>\n",
       "\t<tr><td>4</td><td>BC</td><td>59.434</td><td>-126.172</td><td>6/12/1952</td><td>    1.2</td><td>H</td><td>NA</td><td>Boreal Cordillera</td></tr>\n",
       "\t<tr><td>5</td><td>BC</td><td>59.963</td><td>-136.502</td><td>8/1/1951 </td><td>  194.2</td><td>H</td><td>NA</td><td>Boreal Cordillera</td></tr>\n",
       "</tbody>\n",
       "</table>\n"
      ],
      "text/latex": [
       "A tibble: 6 × 9\n",
       "\\begin{tabular}{lllllllll}\n",
       " FID & SRC\\_AGENCY & LATITUDE & LONGITUDE & REP\\_DATE & SIZE\\_HA & CAUSE & PROTZONE & ECOZ\\_NAME\\\\\n",
       " <dbl> & <chr> & <dbl> & <dbl> & <chr> & <dbl> & <chr> & <chr> & <chr>\\\\\n",
       "\\hline\n",
       "\t 0 & BC & 59.963 & -128.172 & 5/26/1953 &     8.0 & H & NA & Boreal Cordillera\\\\\n",
       "\t 1 & BC & 59.318 & -132.172 & 6/22/1950 &     8.0 & L & NA & Boreal Cordillera\\\\\n",
       "\t 2 & BC & 59.876 & -131.922 & 6/4/1950  & 12949.9 & H & NA & Boreal Cordillera\\\\\n",
       "\t 3 & BC & 59.760 & -132.808 & 7/15/1951 &   241.1 & H & NA & Boreal Cordillera\\\\\n",
       "\t 4 & BC & 59.434 & -126.172 & 6/12/1952 &     1.2 & H & NA & Boreal Cordillera\\\\\n",
       "\t 5 & BC & 59.963 & -136.502 & 8/1/1951  &   194.2 & H & NA & Boreal Cordillera\\\\\n",
       "\\end{tabular}\n"
      ],
      "text/markdown": [
       "\n",
       "A tibble: 6 × 9\n",
       "\n",
       "| FID &lt;dbl&gt; | SRC_AGENCY &lt;chr&gt; | LATITUDE &lt;dbl&gt; | LONGITUDE &lt;dbl&gt; | REP_DATE &lt;chr&gt; | SIZE_HA &lt;dbl&gt; | CAUSE &lt;chr&gt; | PROTZONE &lt;chr&gt; | ECOZ_NAME &lt;chr&gt; |\n",
       "|---|---|---|---|---|---|---|---|---|\n",
       "| 0 | BC | 59.963 | -128.172 | 5/26/1953 |     8.0 | H | NA | Boreal Cordillera |\n",
       "| 1 | BC | 59.318 | -132.172 | 6/22/1950 |     8.0 | L | NA | Boreal Cordillera |\n",
       "| 2 | BC | 59.876 | -131.922 | 6/4/1950  | 12949.9 | H | NA | Boreal Cordillera |\n",
       "| 3 | BC | 59.760 | -132.808 | 7/15/1951 |   241.1 | H | NA | Boreal Cordillera |\n",
       "| 4 | BC | 59.434 | -126.172 | 6/12/1952 |     1.2 | H | NA | Boreal Cordillera |\n",
       "| 5 | BC | 59.963 | -136.502 | 8/1/1951  |   194.2 | H | NA | Boreal Cordillera |\n",
       "\n"
      ],
      "text/plain": [
       "  FID SRC_AGENCY LATITUDE LONGITUDE REP_DATE  SIZE_HA CAUSE PROTZONE\n",
       "1 0   BC         59.963   -128.172  5/26/1953     8.0 H     NA      \n",
       "2 1   BC         59.318   -132.172  6/22/1950     8.0 L     NA      \n",
       "3 2   BC         59.876   -131.922  6/4/1950  12949.9 H     NA      \n",
       "4 3   BC         59.760   -132.808  7/15/1951   241.1 H     NA      \n",
       "5 4   BC         59.434   -126.172  6/12/1952     1.2 H     NA      \n",
       "6 5   BC         59.963   -136.502  8/1/1951    194.2 H     NA      \n",
       "  ECOZ_NAME        \n",
       "1 Boreal Cordillera\n",
       "2 Boreal Cordillera\n",
       "3 Boreal Cordillera\n",
       "4 Boreal Cordillera\n",
       "5 Boreal Cordillera\n",
       "6 Boreal Cordillera"
      ]
     },
     "metadata": {},
     "output_type": "display_data"
    }
   ],
   "source": [
    "url <- 'https://gist.githubusercontent.com/hd54/d45ccf80e72b9c87dbc636fb9d33af93/raw/ec514840169031c4eff262d5c42474a44c8d728f/gistfile1.txt'\n",
    "wildfires <- read_tsv(url)\n",
    "\n",
    "head(wildfires)"
   ]
  },
  {
   "cell_type": "code",
   "execution_count": 11,
   "id": "73861046-a661-4d97-894b-f760179464d6",
   "metadata": {},
   "outputs": [],
   "source": [
    "# wrangling data"
   ]
  },
  {
   "cell_type": "code",
   "execution_count": 12,
   "id": "5808a5db-aaa6-41ee-a015-c1ccb8a3039f",
   "metadata": {},
   "outputs": [],
   "source": [
    "# visualize data"
   ]
  },
  {
   "cell_type": "markdown",
   "id": "99c92a5e-e547-44aa-9cfa-c1eb2fa0ead7",
   "metadata": {},
   "source": [
    "### 3. Methods: Plan"
   ]
  },
  {
   "cell_type": "markdown",
   "id": "c08f2f8a-b675-4d86-adef-56ac606d0676",
   "metadata": {},
   "source": [
    "### Report Summary\n",
    "Why is this report trustworthy?\n",
    "\n",
    "### Hypothesis Test:\n",
    "- **Null Hypothesis $H_{0}$**:\n",
    "- **Alternative Hypothesis $H_{\\alpha}$**:\n",
    "- **Significance Level (α):** \n",
    "\n",
    "### Confidence Intervals:\n",
    "- **Parameters of Interest**:\n",
    "- **Confidence Level:**\n",
    "\n",
    "What do you expect to find?\n",
    "\n",
    "What impact could such findings have?\n",
    "\n",
    "What future questions could this lead to?"
   ]
  },
  {
   "cell_type": "markdown",
   "id": "eee43b66-8f5e-4d4e-8d4a-23551e277f12",
   "metadata": {},
   "source": [
    "### 4. References"
   ]
  },
  {
   "cell_type": "markdown",
   "id": "3a8bd02d-0d43-4545-9e68-ef33bf405eb0",
   "metadata": {},
   "source": []
  }
 ],
 "metadata": {
  "kernelspec": {
   "display_name": "R",
   "language": "R",
   "name": "ir"
  },
  "language_info": {
   "codemirror_mode": "r",
   "file_extension": ".r",
   "mimetype": "text/x-r-source",
   "name": "R",
   "pygments_lexer": "r",
   "version": "4.1.3"
  }
 },
 "nbformat": 4,
 "nbformat_minor": 5
}
